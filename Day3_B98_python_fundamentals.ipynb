{
 "cells": [
  {
   "cell_type": "code",
   "execution_count": null,
   "id": "42a2f15f-b16b-4eab-bd30-b94a84758a34",
   "metadata": {},
   "outputs": [],
   "source": [
    "continuation with string datatype :"
   ]
  },
  {
   "cell_type": "code",
   "execution_count": null,
   "id": "e9103968-bec5-40da-aad0-fb7c34cc325e",
   "metadata": {},
   "outputs": [],
   "source": []
  },
  {
   "cell_type": "code",
   "execution_count": 1,
   "id": "2c51c373-aebf-4fe5-bd35-c151a0e95633",
   "metadata": {},
   "outputs": [
    {
     "name": "stdout",
     "output_type": "stream",
     "text": [
      "dinesh\n"
     ]
    }
   ],
   "source": [
    "name = \"dinesh\"\n",
    "\n",
    "print(name)"
   ]
  },
  {
   "cell_type": "code",
   "execution_count": null,
   "id": "97608aaf-24ee-486e-b850-9b463f3febdb",
   "metadata": {},
   "outputs": [],
   "source": []
  },
  {
   "cell_type": "code",
   "execution_count": 2,
   "id": "23617ccb-9176-4a72-af04-9898622f58d9",
   "metadata": {},
   "outputs": [
    {
     "data": {
      "text/plain": [
       "str"
      ]
     },
     "execution_count": 2,
     "metadata": {},
     "output_type": "execute_result"
    }
   ],
   "source": [
    "type(name)"
   ]
  },
  {
   "cell_type": "code",
   "execution_count": 3,
   "id": "145391a7-9466-49ef-b96f-f5d51c08a69f",
   "metadata": {},
   "outputs": [
    {
     "name": "stdout",
     "output_type": "stream",
     "text": [
      "dinesh sahu\n"
     ]
    }
   ],
   "source": [
    "fullname = \"dinesh sahu\"\n",
    "\n",
    "print(fullname)"
   ]
  },
  {
   "cell_type": "code",
   "execution_count": 4,
   "id": "3b497918-afd0-4ddf-a169-092146c81efd",
   "metadata": {},
   "outputs": [
    {
     "name": "stdout",
     "output_type": "stream",
     "text": [
      "Dinesh Sahu\n"
     ]
    }
   ],
   "source": [
    "print(fullname.title())"
   ]
  },
  {
   "cell_type": "code",
   "execution_count": null,
   "id": "f4ee0218-0a58-481b-895b-111ecda152d8",
   "metadata": {},
   "outputs": [],
   "source": [
    "# i want to get the full name in th capital letters"
   ]
  },
  {
   "cell_type": "code",
   "execution_count": 5,
   "id": "a522464c-87ef-4a81-94f6-ee5972c774e6",
   "metadata": {},
   "outputs": [
    {
     "name": "stdout",
     "output_type": "stream",
     "text": [
      "DINESH SAHU\n"
     ]
    }
   ],
   "source": [
    "print(fullname.upper())"
   ]
  },
  {
   "cell_type": "code",
   "execution_count": null,
   "id": "8d48c651-149b-4829-8b2b-f7ca3bcb544b",
   "metadata": {},
   "outputs": [],
   "source": [
    "# i want to get the full name in th samll case letters"
   ]
  },
  {
   "cell_type": "code",
   "execution_count": 6,
   "id": "ad555fe3-1348-4379-97c8-d4aea24e478e",
   "metadata": {},
   "outputs": [
    {
     "name": "stdout",
     "output_type": "stream",
     "text": [
      "dinesh sahu\n"
     ]
    }
   ],
   "source": [
    "print(fullname.lower())"
   ]
  },
  {
   "cell_type": "code",
   "execution_count": null,
   "id": "cf317581-d553-4270-afcc-5d778bebd555",
   "metadata": {},
   "outputs": [],
   "source": []
  },
  {
   "cell_type": "code",
   "execution_count": null,
   "id": "c032030d-9942-415c-99b1-f8a4856fd69f",
   "metadata": {},
   "outputs": [],
   "source": [
    "Introduction to f strings :"
   ]
  },
  {
   "cell_type": "code",
   "execution_count": null,
   "id": "e7e9b465-ebf3-4ac6-96a2-21ba2b5aeea7",
   "metadata": {},
   "outputs": [],
   "source": [
    "general syntax of f strings :"
   ]
  },
  {
   "cell_type": "code",
   "execution_count": null,
   "id": "6590e499-08a9-442f-84dd-ec31ccd64ad9",
   "metadata": {},
   "outputs": [],
   "source": [
    "f\"custom_message {placeholder1} {placeholder2}...........{placeholdern}\""
   ]
  },
  {
   "cell_type": "code",
   "execution_count": null,
   "id": "788b4ca0-1d8d-446e-a92d-12763198dfc5",
   "metadata": {},
   "outputs": [],
   "source": []
  },
  {
   "cell_type": "code",
   "execution_count": null,
   "id": "39f2218d-2895-4a93-9ed8-151f180f348d",
   "metadata": {},
   "outputs": [],
   "source": [
    "firstname = \"sarfaraz\"\n",
    "\n",
    "lastname = \"khan\""
   ]
  },
  {
   "cell_type": "code",
   "execution_count": null,
   "id": "92c111f1-5f03-4ff1-ba33-c13fe4a7c029",
   "metadata": {},
   "outputs": [],
   "source": [
    "# i want to get the fullname...?"
   ]
  },
  {
   "cell_type": "code",
   "execution_count": 25,
   "id": "36a0c365-2430-4ad2-8ff4-d44f3f8082f8",
   "metadata": {},
   "outputs": [
    {
     "name": "stdout",
     "output_type": "stream",
     "text": [
      "sarfaraz khan\n"
     ]
    }
   ],
   "source": [
    "firstname = \"sarfaraz\"\n",
    "\n",
    "lastname = \"khan\"\n",
    "\n",
    "fullname = f\"{firstname} {lastname}\"\n",
    "\n",
    "print(fullname)"
   ]
  },
  {
   "cell_type": "code",
   "execution_count": null,
   "id": "a93919e4-a2a1-4185-91eb-5086e101686e",
   "metadata": {},
   "outputs": [],
   "source": [
    "#req is to appreciate "
   ]
  },
  {
   "cell_type": "code",
   "execution_count": 26,
   "id": "74079b17-8a76-4f93-82de-247a2dfbb741",
   "metadata": {},
   "outputs": [
    {
     "name": "stdout",
     "output_type": "stream",
     "text": [
      "keep up the good work, Sarfaraz Khan\n"
     ]
    }
   ],
   "source": [
    "message = f\"keep up the good work, {fullname.title()}\"\n",
    "\n",
    "print(message)"
   ]
  },
  {
   "cell_type": "code",
   "execution_count": null,
   "id": "d29af6d6-9e7e-48eb-9ba8-10b30bcd309d",
   "metadata": {},
   "outputs": [],
   "source": []
  },
  {
   "cell_type": "code",
   "execution_count": null,
   "id": "c389f662-3d69-41ca-b116-5ca124a12123",
   "metadata": {},
   "outputs": [],
   "source": [
    "adding whitespaces to strings :"
   ]
  },
  {
   "cell_type": "code",
   "execution_count": 27,
   "id": "34a62223-68cb-4e7b-8a2a-d7def466e2f5",
   "metadata": {},
   "outputs": [
    {
     "name": "stdout",
     "output_type": "stream",
     "text": [
      "favourite_programming:Pythonjavac++javascriptswift\n"
     ]
    }
   ],
   "source": [
    "print(\"favourite_programming:Pythonjavac++javascriptswift\")"
   ]
  },
  {
   "cell_type": "code",
   "execution_count": 28,
   "id": "d6f70e54-727b-470d-9a9c-c70aec8d1c54",
   "metadata": {},
   "outputs": [
    {
     "name": "stdout",
     "output_type": "stream",
     "text": [
      "favourite_programming:\n",
      "Python\n",
      "java\n",
      "c++\n",
      "javascript\n",
      "swift\n"
     ]
    }
   ],
   "source": [
    "print(\"favourite_programming:\\nPython\\njava\\nc++\\njavascript\\nswift\")  #\\n ======> line delimiter"
   ]
  },
  {
   "cell_type": "code",
   "execution_count": 29,
   "id": "6ee1679f-8b3e-4d2d-b94c-3a992efe3ecc",
   "metadata": {},
   "outputs": [
    {
     "name": "stdout",
     "output_type": "stream",
     "text": [
      "favourite_programming:\n",
      "\tPython\n",
      "\tjava\n",
      "\tc++\n",
      "\tjavascript\n",
      "\tswift\n"
     ]
    }
   ],
   "source": [
    "print(\"favourite_programming:\\n\\tPython\\n\\tjava\\n\\tc++\\n\\tjavascript\\n\\tswift\") #\\t ==> tab delimiter"
   ]
  },
  {
   "cell_type": "code",
   "execution_count": null,
   "id": "efc5c2bb-b719-4164-a118-ca2362cd137a",
   "metadata": {},
   "outputs": [],
   "source": []
  },
  {
   "cell_type": "code",
   "execution_count": null,
   "id": "273a58e7-1684-4572-9617-2bb684f4fa8f",
   "metadata": {},
   "outputs": [],
   "source": []
  }
 ],
 "metadata": {
  "kernelspec": {
   "display_name": "Python [conda env:base] *",
   "language": "python",
   "name": "conda-base-py"
  },
  "language_info": {
   "codemirror_mode": {
    "name": "ipython",
    "version": 3
   },
   "file_extension": ".py",
   "mimetype": "text/x-python",
   "name": "python",
   "nbconvert_exporter": "python",
   "pygments_lexer": "ipython3",
   "version": "3.13.5"
  }
 },
 "nbformat": 4,
 "nbformat_minor": 5
}
