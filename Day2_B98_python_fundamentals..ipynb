{
 "cells": [
  {
   "cell_type": "code",
   "execution_count": null,
   "id": "6dbfd499-4f54-4613-a3e6-0368ccb9d5bc",
   "metadata": {},
   "outputs": [],
   "source": [
    "Introduction to python fundamentals"
   ]
  },
  {
   "cell_type": "code",
   "execution_count": null,
   "id": "882f5e92-701a-424a-90ac-9d4132b01132",
   "metadata": {},
   "outputs": [],
   "source": []
  },
  {
   "cell_type": "code",
   "execution_count": null,
   "id": "a2ea641b-d007-44bd-84ca-c4309c970d46",
   "metadata": {},
   "outputs": [],
   "source": [
    "Understanding the variables in python :"
   ]
  },
  {
   "cell_type": "code",
   "execution_count": null,
   "id": "53736698-21e5-44ef-9381-3de434bfc1e3",
   "metadata": {},
   "outputs": [],
   "source": []
  },
  {
   "cell_type": "code",
   "execution_count": null,
   "id": "7cd0b923-7a55-4a8f-afc5-4cfa97ddccf3",
   "metadata": {},
   "outputs": [],
   "source": [
    "a = 3\n",
    "\n",
    "b = 2"
   ]
  },
  {
   "cell_type": "code",
   "execution_count": 10,
   "id": "3260bdf8-bc26-4837-9498-61d7b0dfc6c8",
   "metadata": {},
   "outputs": [
    {
     "name": "stdout",
     "output_type": "stream",
     "text": [
      "5\n"
     ]
    }
   ],
   "source": [
    "c = a+b\n",
    "\n",
    "print(c)"
   ]
  },
  {
   "cell_type": "code",
   "execution_count": null,
   "id": "3d659c32-4ea3-4891-8e57-c0fe02456b22",
   "metadata": {},
   "outputs": [],
   "source": [
    "# shift + enter button on the keyboard"
   ]
  },
  {
   "cell_type": "code",
   "execution_count": null,
   "id": "523bd9a0-c917-4c84-9c70-f3c0de243d83",
   "metadata": {},
   "outputs": [],
   "source": []
  },
  {
   "cell_type": "code",
   "execution_count": null,
   "id": "ce016037-a8c1-494e-8732-d08c85e36b67",
   "metadata": {},
   "outputs": [],
   "source": [
    "Rules for declaring the variables in python"
   ]
  },
  {
   "cell_type": "code",
   "execution_count": null,
   "id": "e24c1051-426c-4086-9582-7f3af910ff1a",
   "metadata": {},
   "outputs": [],
   "source": [
    "Rule No.1 : No Namespaces for declaring the variable names."
   ]
  },
  {
   "cell_type": "code",
   "execution_count": 11,
   "id": "6fe27d75-4c3a-46b9-a20e-e2c93497b632",
   "metadata": {},
   "outputs": [
    {
     "ename": "SyntaxError",
     "evalue": "invalid syntax (4051653174.py, line 1)",
     "output_type": "error",
     "traceback": [
      "\u001b[1;36m  Cell \u001b[1;32mIn[11], line 1\u001b[1;36m\u001b[0m\n\u001b[1;33m    first name = \"Faiyaz\"\u001b[0m\n\u001b[1;37m          ^\u001b[0m\n\u001b[1;31mSyntaxError\u001b[0m\u001b[1;31m:\u001b[0m invalid syntax\n"
     ]
    }
   ],
   "source": [
    "first name = \"Faiyaz\"\n",
    "\n",
    "print(first name)"
   ]
  },
  {
   "cell_type": "code",
   "execution_count": 12,
   "id": "5474aa6d-88d0-4aa1-8a93-87f3dfe86d34",
   "metadata": {},
   "outputs": [
    {
     "name": "stdout",
     "output_type": "stream",
     "text": [
      "Faiyaz\n"
     ]
    }
   ],
   "source": [
    "firstname = \"Faiyaz\"\n",
    "\n",
    "print(firstname)"
   ]
  },
  {
   "cell_type": "code",
   "execution_count": null,
   "id": "3b6cd722-c7be-43fe-8b8c-2803a1bbda93",
   "metadata": {},
   "outputs": [],
   "source": [
    "Rule No.2 : A variable name should not start with number"
   ]
  },
  {
   "cell_type": "code",
   "execution_count": 13,
   "id": "55399dd1-bd49-4c66-b749-d30c6d6e5cd1",
   "metadata": {},
   "outputs": [
    {
     "ename": "SyntaxError",
     "evalue": "invalid decimal literal (2603295238.py, line 1)",
     "output_type": "error",
     "traceback": [
      "\u001b[1;36m  Cell \u001b[1;32mIn[13], line 1\u001b[1;36m\u001b[0m\n\u001b[1;33m    1name = \"David\"\u001b[0m\n\u001b[1;37m    ^\u001b[0m\n\u001b[1;31mSyntaxError\u001b[0m\u001b[1;31m:\u001b[0m invalid decimal literal\n"
     ]
    }
   ],
   "source": [
    "1name = \"David\"\n",
    "\n",
    "print(1name)"
   ]
  },
  {
   "cell_type": "code",
   "execution_count": 14,
   "id": "318fa328-4554-493d-8fdd-c1e0d949ea15",
   "metadata": {},
   "outputs": [
    {
     "name": "stdout",
     "output_type": "stream",
     "text": [
      "David\n"
     ]
    }
   ],
   "source": [
    "name1 = \"David\"\n",
    "\n",
    "print(name1)"
   ]
  },
  {
   "cell_type": "code",
   "execution_count": null,
   "id": "16efba8e-8faa-4bce-9a00-ee84fd095c6c",
   "metadata": {},
   "outputs": [],
   "source": [
    "# shift + enter"
   ]
  },
  {
   "cell_type": "code",
   "execution_count": null,
   "id": "be27c9d0-dd33-4529-8058-669074e71a92",
   "metadata": {},
   "outputs": [],
   "source": [
    "Rule No.3 : A variable name should not contain any special characters"
   ]
  },
  {
   "cell_type": "code",
   "execution_count": 15,
   "id": "983aca13-9568-44fd-bdc2-b9f4a943fdf3",
   "metadata": {},
   "outputs": [
    {
     "ename": "SyntaxError",
     "evalue": "invalid syntax (3777688959.py, line 1)",
     "output_type": "error",
     "traceback": [
      "\u001b[1;36m  Cell \u001b[1;32mIn[15], line 1\u001b[1;36m\u001b[0m\n\u001b[1;33m    name@ = \"Salman\"\u001b[0m\n\u001b[1;37m          ^\u001b[0m\n\u001b[1;31mSyntaxError\u001b[0m\u001b[1;31m:\u001b[0m invalid syntax\n"
     ]
    }
   ],
   "source": [
    "name@ = \"Salman\"\n",
    "\n",
    "print(name@)"
   ]
  },
  {
   "cell_type": "code",
   "execution_count": null,
   "id": "3677a4fb-f3ef-4faf-8c2f-46c812b3d6b1",
   "metadata": {},
   "outputs": [],
   "source": [
    "@ # $ % ! & *"
   ]
  },
  {
   "cell_type": "code",
   "execution_count": null,
   "id": "5d0b404a-ad70-4684-9589-35ae68069ed1",
   "metadata": {},
   "outputs": [],
   "source": []
  },
  {
   "cell_type": "code",
   "execution_count": null,
   "id": "9377ddb1-a606-4464-925e-7f26624b7d7c",
   "metadata": {},
   "outputs": [],
   "source": [
    "Introduction to datatypes in python :"
   ]
  },
  {
   "cell_type": "code",
   "execution_count": null,
   "id": "6a703316-6f42-4f69-a6de-8eabf5bc9efd",
   "metadata": {},
   "outputs": [],
   "source": [
    "1. String ========> str"
   ]
  },
  {
   "cell_type": "code",
   "execution_count": null,
   "id": "ce58774f-2d59-42c2-a21f-6e64c8241607",
   "metadata": {},
   "outputs": [],
   "source": [
    "2. Numbers ====> integers --- int, floats( decimals) ----> 0.1, 0.2, 0.3"
   ]
  },
  {
   "cell_type": "code",
   "execution_count": null,
   "id": "680d66f7-4ab2-4b0b-9832-73ef791964ee",
   "metadata": {},
   "outputs": [],
   "source": [
    "3. List =======> list"
   ]
  },
  {
   "cell_type": "code",
   "execution_count": null,
   "id": "1d170238-ddce-4314-8fb5-389dce1ce243",
   "metadata": {},
   "outputs": [],
   "source": [
    "4. tuples =====> tuple"
   ]
  },
  {
   "cell_type": "code",
   "execution_count": null,
   "id": "a2f2752a-2ebd-4191-85c1-453312eac40f",
   "metadata": {},
   "outputs": [],
   "source": [
    "5. Dictionaries ==> dict"
   ]
  },
  {
   "cell_type": "code",
   "execution_count": null,
   "id": "9c6b581f-9ddc-4ab5-9744-b4894f11018b",
   "metadata": {},
   "outputs": [],
   "source": []
  },
  {
   "cell_type": "code",
   "execution_count": null,
   "id": "3c3185a6-0521-4cb7-8fb7-6a8d4e3319f5",
   "metadata": {},
   "outputs": [],
   "source": [
    "Classification of datatypes :\n",
    "\n",
    "Datatypes broadly classified into two catagories\n",
    "\n",
    "1. Mutable datatypes ----> which we can be able to edit/alter\n",
    "2. Immutable datatypes ---> which we cannot be able to edit/alter"
   ]
  },
  {
   "cell_type": "code",
   "execution_count": null,
   "id": "9fe6042e-c096-4dcf-8779-74264075ad6b",
   "metadata": {},
   "outputs": [],
   "source": []
  },
  {
   "cell_type": "code",
   "execution_count": null,
   "id": "94398b5a-71ae-48e3-8b6b-a632ea44cc59",
   "metadata": {},
   "outputs": [],
   "source": []
  },
  {
   "cell_type": "code",
   "execution_count": null,
   "id": "e0b284a9-6727-4d8f-86bd-5ab5c8e8783f",
   "metadata": {},
   "outputs": [],
   "source": [
    "intoduction to string datatype :"
   ]
  },
  {
   "cell_type": "code",
   "execution_count": null,
   "id": "aa763174-16e5-46d8-8493-ebfaa1415276",
   "metadata": {},
   "outputs": [],
   "source": [
    "defination: A string is a series of characters declared in quotes\n",
    "\n",
    "classification: it is classified as an immutable datatype\n",
    "\n",
    "how to declare the string ====>\n",
    "\n",
    "1. single quote\n",
    "2. double quote"
   ]
  },
  {
   "cell_type": "code",
   "execution_count": 16,
   "id": "bde2882a-83e4-49ea-9424-410a84cf3c6d",
   "metadata": {},
   "outputs": [
    {
     "name": "stdout",
     "output_type": "stream",
     "text": [
      "mahesh\n"
     ]
    }
   ],
   "source": [
    "name = 'mahesh'     #single quote\n",
    "\n",
    "print(name)"
   ]
  },
  {
   "cell_type": "code",
   "execution_count": 17,
   "id": "db4e2722-61f7-4dbe-bf4c-85c1f1c5bfd8",
   "metadata": {},
   "outputs": [
    {
     "name": "stdout",
     "output_type": "stream",
     "text": [
      "dinesh\n"
     ]
    }
   ],
   "source": [
    "name2 = \"dinesh\"   #double quote\n",
    "\n",
    "print(name2)"
   ]
  },
  {
   "cell_type": "code",
   "execution_count": null,
   "id": "5f6fd900-dee8-48e4-b07b-7c13c7e24b2f",
   "metadata": {},
   "outputs": [],
   "source": []
  }
 ],
 "metadata": {
  "kernelspec": {
   "display_name": "Python [conda env:base] *",
   "language": "python",
   "name": "conda-base-py"
  },
  "language_info": {
   "codemirror_mode": {
    "name": "ipython",
    "version": 3
   },
   "file_extension": ".py",
   "mimetype": "text/x-python",
   "name": "python",
   "nbconvert_exporter": "python",
   "pygments_lexer": "ipython3",
   "version": "3.13.5"
  }
 },
 "nbformat": 4,
 "nbformat_minor": 5
}
