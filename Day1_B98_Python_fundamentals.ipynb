{
 "cells": [
  {
   "cell_type": "code",
   "execution_count": 1,
   "id": "42370a4a-999d-4d27-bcb8-ac4c8942278a",
   "metadata": {},
   "outputs": [
    {
     "name": "stdout",
     "output_type": "stream",
     "text": [
      "Hello all welcome to the python programming session!!\n"
     ]
    }
   ],
   "source": [
    "print(\"Hello all welcome to the python programming session!!\")"
   ]
  },
  {
   "cell_type": "code",
   "execution_count": 3,
   "id": "820529eb-c667-4e8d-a8f2-bb26ed598109",
   "metadata": {},
   "outputs": [
    {
     "name": "stdout",
     "output_type": "stream",
     "text": [
      "Hello world!!\n"
     ]
    }
   ],
   "source": [
    "print(\"Hello world!!\")"
   ]
  },
  {
   "cell_type": "code",
   "execution_count": 4,
   "id": "cd555794-53ea-4d56-8133-d7c853034d61",
   "metadata": {},
   "outputs": [
    {
     "name": "stdout",
     "output_type": "stream",
     "text": [
      "Good day!!\n"
     ]
    }
   ],
   "source": [
    "print(\"Good day!!\")"
   ]
  },
  {
   "cell_type": "code",
   "execution_count": null,
   "id": "18eb42e5-d102-4e3f-b726-3bedb1e0020c",
   "metadata": {},
   "outputs": [],
   "source": []
  }
 ],
 "metadata": {
  "kernelspec": {
   "display_name": "Python [conda env:base] *",
   "language": "python",
   "name": "conda-base-py"
  },
  "language_info": {
   "codemirror_mode": {
    "name": "ipython",
    "version": 3
   },
   "file_extension": ".py",
   "mimetype": "text/x-python",
   "name": "python",
   "nbconvert_exporter": "python",
   "pygments_lexer": "ipython3",
   "version": "3.13.5"
  }
 },
 "nbformat": 4,
 "nbformat_minor": 5
}
